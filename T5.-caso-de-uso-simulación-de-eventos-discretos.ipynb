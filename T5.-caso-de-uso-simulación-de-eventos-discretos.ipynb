{
 "cells": [
  {
   "cell_type": "markdown",
   "metadata": {},
   "source": [
    "## Congruencial"
   ]
  },
  {
   "cell_type": "code",
   "execution_count": 1,
   "metadata": {
    "collapsed": true
   },
   "outputs": [],
   "source": [
    "%matplotlib inline \n",
    "import matplotlib.pyplot as plt\n",
    "import math\n",
    "\n",
    "def  congruencial(x0):\n",
    "    a = 1664525\n",
    "    b = 1013904223\n",
    "    m = 2**32\n",
    "    xi = x0\n",
    "    ui =0\n",
    "    xi = (a*xi + b)%(m)\n",
    "    ui = float(xi)/float(m)\n",
    "\n",
    "    return ui,xi"
   ]
  },
  {
   "cell_type": "markdown",
   "metadata": {},
   "source": [
    "## Exponencial"
   ]
  },
  {
   "cell_type": "code",
   "execution_count": 2,
   "metadata": {
    "collapsed": true
   },
   "outputs": [],
   "source": [
    "def expon(landa,x0):\n",
    "    ui,x0 = congruencial(x0)   \n",
    "    exp = (-math.log(1-ui))/landa   \n",
    "    return exp,x0 "
   ]
  },
  {
   "cell_type": "markdown",
   "metadata": {},
   "source": [
    "## Uniforme"
   ]
  },
  {
   "cell_type": "code",
   "execution_count": 3,
   "metadata": {
    "collapsed": true
   },
   "outputs": [],
   "source": [
    "def uniforme(a,b,x0):\n",
    "    ui,x0 = congruencial(x0)\n",
    "    uni = a + ui*(b-a)     \n",
    "    return uni,x0"
   ]
  },
  {
   "cell_type": "code",
   "execution_count": 12,
   "metadata": {
    "collapsed": false
   },
   "outputs": [
    {
     "name": "stdout",
     "output_type": "stream",
     "text": [
      "Bank renege\n",
      " 0.0000 Customer00: Here I am\n",
      " 0.0000 Customer00: Waited  0.000\n",
      " 1.4541 Customer01: Here I am\n",
      " 1.9153 Customer02: Here I am\n",
      " 3.4541 Customer01: RENEGED after  2.000\n",
      " 3.7806 Customer00: Finished\n",
      " 3.7806 Customer02: Waited  1.865\n",
      " 4.9799 Customer02: Finished\n",
      " 6.2206 Customer03: Here I am\n",
      " 6.2206 Customer03: Waited  0.000\n",
      " 7.4793 Customer04: Here I am\n",
      " 9.4793 Customer04: RENEGED after  2.000\n",
      "17.4142 Customer03: Finished\n",
      "Numero De clientes= 5\n",
      "Numero De  Clientes Atendidos= 3\n",
      "Numero De Clientes que Abandonaron= 2\n",
      "Personas en la fila=\n",
      "[1, 0, 1, 2, 1, 0, 1, 0, 1, 0]\n",
      "Clientes en el banco=\n",
      "[1, 2, 3, 2, 1, 0, 1, 2, 1, 0]\n",
      "Promedio de personas en fila=\n",
      "1.0\n"
     ]
    },
    {
     "data": {
      "image/png": "[encoded data removed]",
      "text/plain": [
       "<matplotlib.figure.Figure at 0x5260690>"
      ]
     },
     "metadata": {},
     "output_type": "display_data"
    }
   ],
   "source": [
    "import random\n",
    "import simpy\n",
    "\n",
    "RANDOM_SEED = 42\n",
    "x0uniform =RANDOM_SEED\n",
    "x0expon  = RANDOM_SEED\n",
    "\n",
    "NEW_CUSTOMERS = 5\n",
    "INTERVAL_CUSTOMERS =5 \n",
    "MIN_PATIENCE = 2\n",
    "MAX_PATIENCE = 4\n",
    "time_in_bank = 13\n",
    "\n",
    "numCli = 0\n",
    "numCliAtendidos = 0\n",
    "numCliAbandonaron = 0\n",
    "tiempoPromedioEspera = 0\n",
    "tamfila = 0\n",
    "tamPromedioFila = []\n",
    "tiempo = []\n",
    "cliBanc = 0\n",
    "clientesEnBanco = []\n",
    "\n",
    "def source(env, number, interval, counter):\n",
    "    \"\"\"Source generates customers randomly\"\"\"\n",
    "    x0 = RANDOM_SEED\n",
    "    global time_in_bank\n",
    "    \n",
    "    for i in range(number):\n",
    "        c = customer(env,'Customer%02d' % i, counter, time_in_bank)\n",
    "        env.process(c)\n",
    "        exp,x0 = expon((1.0/interval),x0)\n",
    "        t = exp\n",
    "        yield env.timeout(t)\n",
    "    \n",
    "def promedio(listas):\n",
    "    sum=0.0\n",
    "    \n",
    "    for i in range(0,len(listas)):\n",
    "        sum=sum+listas[i]\n",
    "        \n",
    "    return sum/len(listas)    \n",
    "\n",
    "def customer(env, name, counter, time_in_bank):\n",
    "    #x0uniform = RANDOM_SEED\n",
    "    global x0expon\n",
    "    global x0uniform\n",
    "    global numCli \n",
    "    global numCliAtendidos\n",
    "    global numCliAbandonaron\n",
    "    global tamfila\n",
    "    global tamPromedioFila\n",
    "    global tiempo\n",
    "    global cliBanc\n",
    "    global clientesEnBanco\n",
    "    \"\"\"Customer arrives, is served and leaves.\"\"\"\n",
    "    arrive = env.now\n",
    "    print('%7.4f %s: Here I am' % (arrive, name))\n",
    "    \n",
    "    numCli +=1\n",
    "    cliBanc +=1\n",
    "    clientesEnBanco.append(cliBanc)\n",
    "    #tiempo.append(arrive)\n",
    "    tamfila+=1\n",
    "    tamPromedioFila.append(tamfila)\n",
    "    with counter.request() as req:\n",
    "        patience,x0uniform = uniforme(MIN_PATIENCE,MIN_PATIENCE,x0uniform)\n",
    "        # Wait for the counter or abort at the end of our tether\n",
    "        results = yield req | env.timeout(patience)\n",
    "\n",
    "        wait = env.now - arrive\n",
    "\n",
    "        if req in results:\n",
    "            # We got to the counter\n",
    "            print('%7.4f %s: Waited %6.3f' % (env.now, name, wait))\n",
    "            tamfila-=1\n",
    "            tamPromedioFila.append(tamfila)\n",
    "           \n",
    "            exp,x0expon = expon((1.0/time_in_bank),x0expon)\n",
    "            tib = exp            \n",
    "            yield env.timeout(tib)    \n",
    "            \n",
    "            print('%7.4f %s: Finished' % (env.now, name))\n",
    "           \n",
    "            \n",
    "            numCliAtendidos += 1\n",
    "        else:\n",
    "            # We reneged\n",
    "            print('%7.4f %s: RENEGED after %6.3f' % (env.now, name, wait))\n",
    "            numCliAbandonaron += 1\n",
    "            tamfila-=1\n",
    "            tamPromedioFila.append(tamfila)\n",
    "        cliBanc -=1\n",
    "        clientesEnBanco.append(cliBanc)\n",
    "        #tiempo.append(arrive)\n",
    "\n",
    "            \n",
    "            \n",
    "# Setup and start the simulation\n",
    "print('Bank renege')\n",
    "random.seed(RANDOM_SEED)\n",
    "env = simpy.Environment()\n",
    "\n",
    "# Start processes and run\n",
    "counter = simpy.Resource(env, capacity=1)\n",
    "env.process(source(env, NEW_CUSTOMERS, INTERVAL_CUSTOMERS, counter))\n",
    "env.run()\n",
    "print('Numero De clientes= %d'%(numCli))\n",
    "print('Numero De  Clientes Atendidos= %d'%(numCliAtendidos))\n",
    "print('Numero De Clientes que Abandonaron= %d'%(numCliAbandonaron))\n",
    "#print('tamanoPromedioFila = %d'%(tamanoPromedioFila))\n",
    "print('Personas en la fila=')\n",
    "print(tamPromedioFila)\n",
    "print('Clientes en el banco=')\n",
    "print(clientesEnBanco)\n",
    "promed = promedio(tamPromedioFila)\n",
    "promed =  math.ceil(promed)\n",
    "print('Promedio de personas en fila=')\n",
    "print(promed)\n",
    "\n",
    "\n",
    "ax = plt.gca()\n",
    "ax.plot(tamPromedioFila,'',clientesEnBanco,'')\n",
    "plt.show()\n"
   ]
  },
  {
   "cell_type": "code",
   "execution_count": null,
   "metadata": {
    "collapsed": true
   },
   "outputs": [],
   "source": []
  },
  {
   "cell_type": "code",
   "execution_count": null,
   "metadata": {
    "collapsed": true
   },
   "outputs": [],
   "source": []
  },
  {
   "cell_type": "code",
   "execution_count": null,
   "metadata": {
    "collapsed": true
   },
   "outputs": [],
   "source": []
  }
 ],
 "metadata": {
  "anaconda-cloud": {},
  "kernelspec": {
   "display_name": "Python [Root]",
   "language": "python",
   "name": "Python [Root]"
  },
  "language_info": {
   "codemirror_mode": {
    "name": "ipython",
    "version": 2
   },
   "file_extension": ".py",
   "mimetype": "text/x-python",
   "name": "python",
   "nbconvert_exporter": "python",
   "pygments_lexer": "ipython2",
   "version": "2.7.12"
  }
 },
 "nbformat": 4,
 "nbformat_minor": 0
}
