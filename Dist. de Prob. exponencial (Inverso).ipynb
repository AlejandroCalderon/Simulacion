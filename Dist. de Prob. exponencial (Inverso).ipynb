{
 "cells": [
  {
   "cell_type": "code",
   "execution_count": 48,
   "metadata": {
    "collapsed": false
   },
   "outputs": [
    {
     "data": {
      "image/png": "[encoded data removed]",
      "text/plain": [
       "<matplotlib.figure.Figure at 0x69db770>"
      ]
     },
     "metadata": {},
     "output_type": "display_data"
    }
   ],
   "source": [
    "%matplotlib inline\n",
    "import matplotlib.pyplot as plt\n",
    "import math\n",
    "\n",
    "u=0\n",
    "\n",
    "def gcm(x0):\n",
    "\n",
    "    a=1664525\n",
    "    b=1013904223\n",
    "    m=2**32\n",
    "    xi=x0\n",
    "    xi=(a*xi+b)%m\n",
    "    u= (float (xi)/m)\n",
    "        \n",
    "    \n",
    "    return (u,xi)\n",
    "        \n",
    "\n",
    "def invExp(itera):\n",
    "    l= 10.0\n",
    "    x0=0\n",
    "    vec=[]\n",
    "    for x in range(itera):\n",
    "        u,x0=gcm(x0)\n",
    "        #print(u)\n",
    "        f=(-math.log(1-u))/l\n",
    "        vec.append(f)\n",
    "    return vec\n",
    "\n",
    "def Exp(itera):\n",
    "    l=10.0\n",
    "    x0=0\n",
    "    vecY=[]\n",
    "    vecX=[]\n",
    "    for k in range(itera):  \n",
    "        x = float(k)/100.0\n",
    "        fe= l*(math.exp(-l*x))\n",
    "        vecY.append(fe)\n",
    "        vecX.append(x)\n",
    "    return vecX,vecY\n",
    "\n",
    "\n",
    "x= invExp(1000)\n",
    "vecX,vecY =  Exp(100)\n",
    "#print (x)\n",
    "ax = plt.gca()\n",
    "\n",
    "plt.hist(x,30, normed=True)\n",
    "ax.plot(vecX,vecY,'red')\n",
    "plt.show()\n",
    "\n",
    "    \n",
    "    \n",
    "    \n"
   ]
  },
  {
   "cell_type": "code",
   "execution_count": null,
   "metadata": {
    "collapsed": true
   },
   "outputs": [],
   "source": []
  },
  {
   "cell_type": "code",
   "execution_count": null,
   "metadata": {
    "collapsed": true
   },
   "outputs": [],
   "source": []
  }
 ],
 "metadata": {
  "anaconda-cloud": {},
  "kernelspec": {
   "display_name": "Python [Root]",
   "language": "python",
   "name": "Python [Root]"
  },
  "language_info": {
   "codemirror_mode": {
    "name": "ipython",
    "version": 2
   },
   "file_extension": ".py",
   "mimetype": "text/x-python",
   "name": "python",
   "nbconvert_exporter": "python",
   "pygments_lexer": "ipython2",
   "version": "2.7.12"
  }
 },
 "nbformat": 4,
 "nbformat_minor": 0
}
