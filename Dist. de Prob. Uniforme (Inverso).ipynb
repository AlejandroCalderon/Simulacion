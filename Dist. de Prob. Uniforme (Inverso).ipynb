{
 "cells": [
  {
   "cell_type": "markdown",
   "metadata": {},
   "source": [
    "# Distribuciond e probabilidad Uniforme (Inverso vs Teórico)\n",
    "\n",
    "\n",
    "Inverso:\n",
    "\n",
    "\n",
    "$F^{-1}(p)=a+p(b-a)\\,\\,{\\text{ for }}0<p<1$\n",
    "\n",
    "\n",
    "\n",
    "\n",
    "\n",
    "\n",
    "Teórico:\n",
    "\n",
    "\n",
    "$f(x)={\\begin{cases}{\\frac {1}{b-a}}&\\mathrm {for} \\ a\\leq x\\leq b,\\\\[8pt]0&\\mathrm {for} \\ x<a\\ \\mathrm {or} \\ x>b\\end{cases}}$\n",
    "\n"
   ]
  },
  {
   "cell_type": "code",
   "execution_count": 13,
   "metadata": {
    "collapsed": false
   },
   "outputs": [
    {
     "data": {
      "image/png": "[encoded data removed]",
      "text/plain": [
       "<matplotlib.figure.Figure at 0x785dfd0>"
      ]
     },
     "metadata": {},
     "output_type": "display_data"
    }
   ],
   "source": [
    "%matplotlib inline\n",
    "import matplotlib.pyplot as plt\n",
    "import math\n",
    "\n",
    "u=0\n",
    "def gcm(x0):\n",
    "\n",
    "    a=1664525\n",
    "    b=1013904223\n",
    "    m=2**32\n",
    "    xi=x0\n",
    "    xi=(a*xi+b)%m\n",
    "    u= (float (xi)/m)\n",
    "    return (u,xi)\n",
    "\n",
    "def invUni(itera):\n",
    "    o=7.0\n",
    "    miu=4.0\n",
    "    x0=0\n",
    "    vec=[]\n",
    "    for i in range(itera):\n",
    "        u,x0=gcm(x0)\n",
    "        F=o*math.sqrt(3)*(2*u)+miu\n",
    "        vec.append(F)\n",
    "    return vec\n",
    "x= invUni(5000)\n",
    "\n",
    "def uniforme (itera):\n",
    "    b=28.0\n",
    "    a=4.0\n",
    "    x0=0\n",
    "    vecY=[]\n",
    "    vecX=[]\n",
    "    for i in range(itera):\n",
    "        if (a<i and i<b):\n",
    "            x=i\n",
    "            uni=float(1/(b-a))\n",
    "            vecY.append(uni)\n",
    "            vecX.append(x)\n",
    "        else:\n",
    "            uni=0\n",
    "            x=i\n",
    "            vecY.append(uni)\n",
    "            vecX.append(x)\n",
    "        \n",
    "    return vecX,vecY\n",
    "\n",
    "vecX,vecY= uniforme(50)\n",
    "    \n",
    "ax= plt.gca()\n",
    "plt.hist(x,20, normed=True)\n",
    "ax.plot(vecX,vecY,'red')\n",
    "plt.show()\n"
   ]
  },
  {
   "cell_type": "markdown",
   "metadata": {
    "collapsed": true
   },
   "source": [
    "Donde el histograma nos representa la inversa de la función y la linea roja nos muestra la representación teórica de la misma función."
   ]
  },
  {
   "cell_type": "code",
   "execution_count": null,
   "metadata": {
    "collapsed": true
   },
   "outputs": [],
   "source": []
  },
  {
   "cell_type": "code",
   "execution_count": null,
   "metadata": {
    "collapsed": true
   },
   "outputs": [],
   "source": []
  }
 ],
 "metadata": {
  "anaconda-cloud": {},
  "kernelspec": {
   "display_name": "Python [Root]",
   "language": "python",
   "name": "Python [Root]"
  },
  "language_info": {
   "codemirror_mode": {
    "name": "ipython",
    "version": 2
   },
   "file_extension": ".py",
   "mimetype": "text/x-python",
   "name": "python",
   "nbconvert_exporter": "python",
   "pygments_lexer": "ipython2",
   "version": "2.7.12"
  }
 },
 "nbformat": 4,
 "nbformat_minor": 0
}
