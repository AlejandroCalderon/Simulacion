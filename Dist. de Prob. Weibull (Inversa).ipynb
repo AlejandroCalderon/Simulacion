{
 "cells": [
  {
   "cell_type": "markdown",
   "metadata": {},
   "source": [
    "# Distribución de Probabilidad Weibull (Inversa vs Teórica)\n",
    "\n",
    "Inversa:\n",
    "\n",
    "\n",
    "\n",
    "\n",
    "Teórica:\n",
    "\n",
    "\n",
    "${\\displaystyle f(x;\\lambda ,k)={\\begin{cases}{\\frac {k}{\\lambda }}\\left({\\frac {x}{\\lambda }}\\right)^{k-1}e^{-(x/\\lambda )^{k}}&x\\geq 0\\\\0&x<0\\end{cases}}}$\n",
    "\n"
   ]
  },
  {
   "cell_type": "code",
   "execution_count": 1,
   "metadata": {
    "collapsed": false
   },
   "outputs": [
    {
     "data": {
      "image/png": "[encoded data removed]",
      "text/plain": [
       "<matplotlib.figure.Figure at 0x4f1fcd0>"
      ]
     },
     "metadata": {},
     "output_type": "display_data"
    }
   ],
   "source": [
    "%matplotlib inline\n",
    "import matplotlib.pyplot as plt\n",
    "import math\n",
    "\n",
    "u=0\n",
    "\n",
    "def gcm(x0):\n",
    "\n",
    "    a=1664525\n",
    "    b=1013904223\n",
    "    m=2**32\n",
    "    xi=x0\n",
    "    xi=(a*xi+b)%m\n",
    "    u= (float (xi)/m)\n",
    "    return (u,xi)\n",
    "\n",
    "def invWei(itera):\n",
    "    l=1\n",
    "    k=2.5\n",
    "    x0=0\n",
    "    vec1=[]\n",
    "    for i in range(itera):\n",
    "        u,x0=gcm(x0)\n",
    "        f=l*((-math.log(1-u))**(1/(k)))\n",
    "        vec1.append(f)\n",
    "    return vec1\n",
    "\n",
    "def wei(itera):\n",
    "    l=1\n",
    "    k=2.5\n",
    "    x0=5\n",
    "    vecX=[]\n",
    "    vecY=[]\n",
    "    for i in range(itera):\n",
    "        x=i\n",
    "        if (i>=0):\n",
    "            w=((k/l)*((x/l)**(k-1))*(math.exp(-(x/l)**k)))\n",
    "        else:\n",
    "            w=0\n",
    "        \n",
    "        vecY.append(w)\n",
    "        vecX.append(x)\n",
    "    return vecX, vecY\n",
    "\n",
    "\n",
    "x= invWei(100000)\n",
    "vecX, vecY= wei(7)\n",
    "ax=plt.gca()\n",
    "\n",
    "plt.hist(x,30, normed=True)\n",
    "ax.plot(vecX, vecY,'red')\n",
    "plt.show()\n"
   ]
  },
  {
   "cell_type": "markdown",
   "metadata": {
    "collapsed": true
   },
   "source": [
    "Donde el histograma nos representa la inversa de la función y la linea roja nos muestra la representación teórica de la misma función."
   ]
  },
  {
   "cell_type": "code",
   "execution_count": null,
   "metadata": {
    "collapsed": true
   },
   "outputs": [],
   "source": []
  },
  {
   "cell_type": "code",
   "execution_count": null,
   "metadata": {
    "collapsed": true
   },
   "outputs": [],
   "source": []
  }
 ],
 "metadata": {
  "anaconda-cloud": {},
  "kernelspec": {
   "display_name": "Python [Root]",
   "language": "python",
   "name": "Python [Root]"
  },
  "language_info": {
   "codemirror_mode": {
    "name": "ipython",
    "version": 2
   },
   "file_extension": ".py",
   "mimetype": "text/x-python",
   "name": "python",
   "nbconvert_exporter": "python",
   "pygments_lexer": "ipython2",
   "version": "2.7.12"
  }
 },
 "nbformat": 4,
 "nbformat_minor": 0
}
