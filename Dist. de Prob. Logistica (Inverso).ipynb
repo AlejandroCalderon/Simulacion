{
 "cells": [
  {
   "cell_type": "markdown",
   "metadata": {},
   "source": [
    "# Distribución de probabilidad Logística (Inversa vs Teórico)\n",
    "\n",
    "Inversa\n",
    "\n",
    "\n",
    "\n",
    "${\\displaystyle F^{-1}(p;\\mu ,s)=\\mu +s\\,\\ln \\left({\\frac {p}{1-p}}\\right).}$\n",
    "\n",
    "\n",
    "\n",
    "\n",
    "\n",
    "\n",
    "Teórico\n",
    "\n",
    "\n",
    "${\\displaystyle f(x;\\mu ,s)={\\frac {e^{-(x-\\mu )/s}}{s\\left(1+e^{-(x-\\mu )/s}\\right)^{2}}}\\!}$\n",
    "\n",
    "\n"
   ]
  },
  {
   "cell_type": "code",
   "execution_count": 5,
   "metadata": {
    "collapsed": false
   },
   "outputs": [
    {
     "data": {
      "image/png": "[encoded data removed]",
      "text/plain": [
       "<matplotlib.figure.Figure at 0x50b7ed0>"
      ]
     },
     "metadata": {},
     "output_type": "display_data"
    }
   ],
   "source": [
    "%matplotlib inline\n",
    "import matplotlib.pyplot as plt\n",
    "import math\n",
    "\n",
    "u=0\n",
    "\n",
    "def gcm(x0):\n",
    "\n",
    "    a=1664525\n",
    "    b=1013904223\n",
    "    m=2**32\n",
    "    xi=x0\n",
    "    xi=(a*xi+b)%m\n",
    "    u= (float (xi)/m)\n",
    "    return (u,xi)\n",
    "\n",
    "def invLog(itera):\n",
    "    miu=5\n",
    "    s=2\n",
    "    x0=0\n",
    "    vec=[]\n",
    "    for i in range(itera):\n",
    "        u,x0=gcm(x0)\n",
    "        f=miu+(s*(math.log(u/(1-u))))\n",
    "        vec.append(f)\n",
    "    return vec\n",
    "\n",
    "def Log(itera):\n",
    "    miu=5.0\n",
    "    s=2.0\n",
    "    x0=0\n",
    "    vecX=[]\n",
    "    vecY=[]\n",
    "    for i in range(itera):\n",
    "        x=i-20\n",
    "        d=float((math.exp(-(x-miu)/s))/(s*(1+math.exp(-(x-miu)/s))**2))\n",
    "        vecY.append(d)\n",
    "        vecX.append(x)\n",
    "    return vecX,vecY\n",
    "\n",
    "x=invLog(1000)\n",
    "vecX,vecY= Log(40)\n",
    "ax=plt.gca()\n",
    "\n",
    "plt.hist(x,30, normed=True)\n",
    "ax.plot(vecX,vecY,'red')\n",
    "plt.show()\n"
   ]
  },
  {
   "cell_type": "markdown",
   "metadata": {
    "collapsed": true
   },
   "source": [
    "Donde el histograma nos representa la inversa de la función y la linea roja nos muestra la representación teórica de la misma función.\n"
   ]
  },
  {
   "cell_type": "code",
   "execution_count": null,
   "metadata": {
    "collapsed": true
   },
   "outputs": [],
   "source": []
  }
 ],
 "metadata": {
  "anaconda-cloud": {},
  "kernelspec": {
   "display_name": "Python [Root]",
   "language": "python",
   "name": "Python [Root]"
  },
  "language_info": {
   "codemirror_mode": {
    "name": "ipython",
    "version": 2
   },
   "file_extension": ".py",
   "mimetype": "text/x-python",
   "name": "python",
   "nbconvert_exporter": "python",
   "pygments_lexer": "ipython2",
   "version": "2.7.12"
  }
 },
 "nbformat": 4,
 "nbformat_minor": 0
}
