{
 "cells": [
  {
   "cell_type": "code",
   "execution_count": 18,
   "metadata": {
    "collapsed": false
   },
   "outputs": [
    {
     "data": {
      "image/png": "[encoded data removed]",
      "text/plain": [
       "<matplotlib.figure.Figure at 0x7eb8b30>"
      ]
     },
     "metadata": {},
     "output_type": "display_data"
    },
    {
     "name": "stdout",
     "output_type": "stream",
     "text": [
      "[3, 3, 4, 2, 2, 2, 4, 4, 4, 2, 3, 4, 3, 3, 3, 2, 3, 3, 3, 4, 3, 2, 2, 5, 3, 4, 5, 3, 4, 3, 3, 4, 1, 3, 5, 5, 2, 3, 5, 2, 4, 6, 3, 3, 2, 2, 2, 5, 3, 2, 2, 4, 3, 3, 5, 4, 2, 2, 2, 5, 4, 3, 2, 1, 4, 5, 4, 2, 5, 5, 4, 2, 5, 5, 2, 4, 4, 5, 5, 3, 3, 3, 4, 4, 5, 2, 4, 5, 3, 3, 2, 3, 2, 4, 3, 4, 5, 2, 2, 3, 3, 5, 4, 3, 3, 4, 3, 3, 3, 4, 3, 5, 4, 3, 5, 5, 2, 2, 2, 2, 2, 4, 3, 2, 5, 3, 4, 5, 4, 2, 4, 4, 5, 1, 4, 5, 4, 4, 4, 3, 2, 3, 5, 3, 6, 4, 4, 5, 3, 2, 6, 3, 4, 4, 5, 5, 4, 1, 4, 2, 4, 5, 1, 4, 3, 3, 2, 5, 4, 4, 3, 5, 6, 4, 3, 4, 3, 6, 2, 3, 2, 2, 4, 2, 4, 4, 4, 5, 5, 4, 3, 4, 3, 4, 3, 4, 3, 3, 4, 2, 2, 3, 3, 2, 2, 2, 5, 3, 4, 5, 5, 2, 4, 3, 4, 4, 3, 2, 4, 2, 3, 5, 3, 2, 4, 3, 3, 4, 4, 4, 2, 5, 4, 5, 3, 5, 4, 5, 6, 4, 3, 4, 2, 4, 2, 5, 4, 2, 3, 5, 3, 6, 3, 5, 3, 3, 4, 3, 6, 3, 5, 3, 3, 4, 3, 2, 4, 3, 5, 3, 3, 4, 4, 5, 5, 4, 2, 4, 3, 4, 5, 4, 1, 3, 4, 5, 4, 4, 4, 5, 3, 4, 3, 2, 2, 5, 4, 5, 3, 3, 3, 3, 4, 2, 2, 4, 5, 4, 4, 4, 5, 3, 2, 3, 3, 3, 3, 4, 3, 4, 2, 4, 4, 2, 2, 2, 3, 4, 2, 3, 2, 2, 2, 3, 4, 3, 2, 3, 3, 4, 4, 2, 5, 3, 5, 4, 4, 5, 4, 4, 3, 4, 4, 3, 3, 4, 2, 3, 4, 4, 4, 4, 2, 4, 3, 4, 3, 1, 2, 3, 3, 3, 2, 5, 4, 4, 2, 3, 3, 3, 3, 1, 4, 2, 4, 3, 2, 3, 3, 3, 2, 4, 3, 3, 4, 2, 4, 3, 3, 4, 5, 4, 4, 5, 4, 2, 4, 2, 3, 2, 3, 5, 3, 4, 4, 2, 4, 5, 3, 3, 3, 2, 4, 3, 4, 3, 2, 4, 4, 4, 2, 1, 5, 4, 4, 4, 3, 5, 2, 4, 3, 3, 3, 4, 4, 2, 3, 4, 2, 4, 4, 2, 5, 4, 2, 3, 4, 3, 4, 4, 4, 5, 4, 3, 4, 3, 2, 3, 3, 4, 4, 2, 4, 5, 4, 3, 5, 2, 5, 3, 4, 4, 5, 4, 2, 3, 2, 3, 4, 4, 4, 2, 5, 2, 4, 4, 4, 2, 2, 4, 2, 4, 5, 4, 2, 4, 2, 3, 3, 4, 5, 3, 3, 4, 2, 3, 3, 4, 4, 4, 3, 4, 5, 4, 3, 4, 5, 2, 2, 2, 2, 4, 3, 4, 4, 3, 4, 5, 4, 4, 3, 3, 3, 3, 4, 3, 3, 5, 3, 3, 3, 5, 2, 4, 3, 3, 2, 4, 3, 3, 4, 3, 5, 3, 2, 5, 4, 4, 6, 3, 5, 4, 3, 5, 3, 2, 5, 5, 3, 5, 3, 3, 3, 5, 2, 4, 5, 3, 3, 2, 3, 5, 1, 4, 4, 3, 4, 5, 3, 2, 3, 3, 3, 3, 3, 4, 4, 4, 2, 4, 2, 3, 3, 4, 4, 3, 2, 2, 2, 3, 5, 4, 3, 5, 4, 4, 4, 5, 4, 3, 3, 1, 4, 3, 3, 2, 4, 3, 2, 3, 3, 3, 4, 4, 3, 4, 4, 3, 3, 3, 2, 2, 5, 5, 4, 4, 3, 1, 5, 3, 3, 2, 5, 2, 4, 3, 4, 3, 4, 4, 4, 4, 4, 3, 2, 2, 4, 4, 3, 3, 3, 4, 4, 3, 3, 3, 5, 5, 4, 3, 4, 3, 3, 3, 3, 2, 3, 5, 2, 5, 3, 4, 4, 4, 3, 3, 3, 3, 3, 2, 4, 4, 4, 4, 3, 2, 4, 3, 4, 2, 4, 4, 3, 2, 5, 2, 4, 3, 5, 4, 5, 4, 2, 5, 6, 4, 3, 3, 4, 1, 3, 5, 2, 3, 2, 5, 4, 4, 3, 3, 5, 2, 4, 2, 4, 5, 4, 1, 5, 2, 5, 2, 2, 4, 5, 2, 4, 3, 3, 2, 3, 3, 6, 2, 3, 4, 5, 4, 5, 5, 3, 2, 2, 5, 4, 3, 2, 4, 4, 3, 3, 2, 2, 4, 3, 3, 5, 2, 3, 4, 4, 5, 3, 3, 5, 3, 3, 2, 4, 4, 3, 2, 4, 5, 4, 3, 5, 4, 5, 6, 3, 2, 4, 4, 3, 3, 5, 4, 3, 4, 2, 4, 5, 4, 4, 3, 3, 5, 3, 2, 3, 4, 5, 3, 2, 3, 2, 4, 1, 3, 4, 3, 3, 4, 3, 5, 3, 4, 5, 4, 2, 6, 5, 3, 4, 4, 4, 3, 3, 4, 4, 3, 2, 5, 3, 3, 2, 5, 5, 3, 4, 3, 5, 5, 3, 5, 4, 2, 3, 4, 4, 5, 3, 4, 2, 5, 3, 3, 2, 5, 2, 3, 2, 6, 2, 2, 5, 2, 3, 4, 3, 2, 5, 2, 3, 3, 5, 1, 3, 4, 1, 4, 3, 6, 2, 4, 4, 5, 2, 5, 2, 2, 4, 2, 5, 5, 2, 4, 3, 4, 4, 4, 4, 5, 3, 3, 3, 2, 3, 3, 3, 3, 5, 2, 4, 5, 2, 2, 4, 3, 2, 5, 2, 3, 2, 5, 5, 2, 5, 3, 5, 5, 4, 2, 5, 4, 5, 2, 3, 2, 4, 3, 3, 5, 4, 3, 5, 3, 4, 4, 4, 3, 5, 5, 3, 3, 3, 3, 2, 3]\n"
     ]
    }
   ],
   "source": [
    "%matplotlib inline \n",
    "import matplotlib.pyplot as plt\n",
    "import numpy as np\n",
    "import math\n",
    "\n",
    "u=0\n",
    "def  gcm(x0):\n",
    "    a=1664525\n",
    "    b=1013904223\n",
    "    m=2**32\n",
    "    xi=x0\n",
    "    xi=(a*xi+b)%m\n",
    "    u=(float(xi)/m)\n",
    "    return (u,xi)\n",
    "\n",
    "def acumulada(dist):\n",
    "    acumula=[]\n",
    "    for i in range(len(dist)):\n",
    "        if(i==0):\n",
    "            acumula.append(dist[i])\n",
    "        else:\n",
    "            suma=acumula[i-1]+dist[i]\n",
    "            acumula.append(suma)\n",
    "    return acumula\n",
    "\n",
    "def inversion(acumula,semilla,iterar):\n",
    "    inv=[]\n",
    "    xi=semilla\n",
    "    for i in range(iterar):\n",
    "        xi,random=congruencial(xi)\n",
    "        for i in range(len(acumula)):\n",
    "            if(random <=acumula[i]):\n",
    "                inv.append(i+1) \n",
    "                break\n",
    "    return inv\n",
    "\n",
    "distribucion = [0.02,0.16,0.32,0.32,0.16,0.02]\n",
    "acumulado = acumulada(distribucion)\n",
    "semilla = 10\n",
    "metInv = inversion(acumulado,semilla,1000)\n",
    "\n",
    "plt.hist(metInv, 25, normed=True)\n",
    "plt.show()\n",
    "print(metInv)"
   ]
  },
  {
   "cell_type": "code",
   "execution_count": null,
   "metadata": {
    "collapsed": true
   },
   "outputs": [],
   "source": []
  },
  {
   "cell_type": "code",
   "execution_count": null,
   "metadata": {
    "collapsed": true
   },
   "outputs": [],
   "source": []
  }
 ],
 "metadata": {
  "anaconda-cloud": {},
  "kernelspec": {
   "display_name": "Python [Root]",
   "language": "python",
   "name": "Python [Root]"
  },
  "language_info": {
   "codemirror_mode": {
    "name": "ipython",
    "version": 2
   },
   "file_extension": ".py",
   "mimetype": "text/x-python",
   "name": "python",
   "nbconvert_exporter": "python",
   "pygments_lexer": "ipython2",
   "version": "2.7.12"
  }
 },
 "nbformat": 4,
 "nbformat_minor": 0
}
